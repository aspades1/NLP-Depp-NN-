{
 "cells": [
  {
   "cell_type": "code",
   "execution_count": 78,
   "id": "dc5d68b8-1dc6-4579-8e86-632b1bd9a7fc",
   "metadata": {},
   "outputs": [
    {
     "name": "stdout",
     "output_type": "stream",
     "text": [
      "The autotime extension is already loaded. To reload it, use:\n",
      "  %reload_ext autotime\n",
      "time: 0 ns (started: 2022-02-05 15:06:02 +02:00)\n"
     ]
    }
   ],
   "source": [
    "import pandas as pd\n",
    "import numpy as np\n",
    "import re\n",
    "from nltk.corpus import words\n",
    "%load_ext autotime\n",
    "pd.options.mode.chained_assignment = None"
   ]
  },
  {
   "cell_type": "code",
   "execution_count": 297,
   "id": "4321ff80-75c7-45ac-81f9-d02f28ac918c",
   "metadata": {},
   "outputs": [
    {
     "name": "stdout",
     "output_type": "stream",
     "text": [
      "time: 188 ms (started: 2022-02-05 16:31:30 +02:00)\n"
     ]
    }
   ],
   "source": [
    "train = pd.read_csv('../data/train_gr/train.csv')"
   ]
  },
  {
   "cell_type": "code",
   "execution_count": 298,
   "id": "bffe6f3c-3ea1-4dc2-af46-1b9b626c9e1a",
   "metadata": {},
   "outputs": [
    {
     "name": "stdout",
     "output_type": "stream",
     "text": [
      "time: 234 ms (started: 2022-02-05 16:31:31 +02:00)\n"
     ]
    }
   ],
   "source": [
    "all_words = pd.read_csv('../data/words_alpha.txt', sep=\" \", header=None)\n",
    "all_words = list(data[0])"
   ]
  },
  {
   "cell_type": "code",
   "execution_count": 299,
   "id": "23a0120e-cc56-4df2-817a-8b9f2a8fcb95",
   "metadata": {},
   "outputs": [
    {
     "name": "stdout",
     "output_type": "stream",
     "text": [
      "time: 0 ns (started: 2022-02-05 16:31:31 +02:00)\n"
     ]
    }
   ],
   "source": [
    "train = train.sample(50)"
   ]
  },
  {
   "cell_type": "code",
   "execution_count": 300,
   "id": "f0d0bb61-1f8f-4aa7-acb5-dddedd1906a7",
   "metadata": {},
   "outputs": [
    {
     "name": "stdout",
     "output_type": "stream",
     "text": [
      "time: 0 ns (started: 2022-02-05 16:31:31 +02:00)\n"
     ]
    }
   ],
   "source": [
    "all_words += ['lol', 'pvp', 'gameplay', 'google', 'newbies', 'noob', 'minecraft', 'mmorpg', 'apps', 'appstore',\n",
    "              'mmorpgs', 'roleplay', 'kfc', 'npc', 'camo', 'gaijin', 'instabuy', 'mmo', 'mmos', 'btw', 'headshot',\n",
    "              'headshots', 'gamer', 'gamers', 'spyware', 'pubg', 'uninstall', 'hotfix', 'malware', 'exclusives',\n",
    "              'pve', 'glock', 'moba', 'mobas', 'leaderboard', 'multiplayer', 'fortnite', 'nintendo', 'freeearly', \n",
    "              'dlc', 'konami', 'wifi', 'gaijins']"
   ]
  },
  {
   "cell_type": "code",
   "execution_count": 301,
   "id": "0ef96fa3-be86-488d-8662-186a2669f6c5",
   "metadata": {},
   "outputs": [
    {
     "name": "stdout",
     "output_type": "stream",
     "text": [
      "time: 0 ns (started: 2022-02-05 16:31:31 +02:00)\n"
     ]
    }
   ],
   "source": [
    "def spell_check(text):\n",
    "    text = re.sub('[^A-Za-z ]+', \" \", text, count=0, flags=0)\n",
    "    text = re.sub('\\s{2,}', \" \", text, count=0, flags=0)\n",
    "    text = text.lower()\n",
    "    mylist = text.split()\n",
    "    bad = []\n",
    "    for word in mylist:\n",
    "        if word not in all_words:\n",
    "            bad.append(word)\n",
    "    return bad"
   ]
  },
  {
   "cell_type": "code",
   "execution_count": 302,
   "id": "8a271436-ae03-4025-9037-3ef8dbfab6ba",
   "metadata": {},
   "outputs": [
    {
     "name": "stdout",
     "output_type": "stream",
     "text": [
      "time: 17.6 s (started: 2022-02-05 16:31:31 +02:00)\n"
     ]
    }
   ],
   "source": [
    "train['bad_spelling'] = train['user_review'].apply(spell_check)"
   ]
  },
  {
   "cell_type": "code",
   "execution_count": 303,
   "id": "e9152893-e23e-41cd-bbc2-c3b0b112f98e",
   "metadata": {},
   "outputs": [
    {
     "data": {
      "text/plain": [
       "14137                [recomend, caliwood, xp, suprizingly]\n",
       "15193                                            [reviewi]\n",
       "5682     [alot, defenetly, atleast, joystickit, keybind...\n",
       "1034                                            [reviewit]\n",
       "16822                                    [reviewprops, ve]\n",
       "10853    [deckbuilding, automacic, kinda, desing, signi...\n",
       "9941                                          [intresting]\n",
       "16235                [sensecredits, highscore, repetetive]\n",
       "8255                                 [facebook, allplease]\n",
       "5484                                                    []\n",
       "7835                               [wildstar, possibilies]\n",
       "15512                                           [dps, dps]\n",
       "15737                                 [reviewthe, verison]\n",
       "13325                             [creativerse, definitly]\n",
       "6721                                  [reviewso, everynow]\n",
       "8299     [sceanery, abilties, hotbar, vetern, elietist,...\n",
       "13152                                                   []\n",
       "5413                                                  [ve]\n",
       "6766      [reviewthis, ballsack, reccomend, minuites, wtf]\n",
       "1999                            [dota, cyber, macth, dota]\n",
       "8753     [reviewthis, skillbased, rng, realeased, ghost...\n",
       "9204                                        [certs, certs]\n",
       "4555                                  [definetly, youtube]\n",
       "13250                                                   []\n",
       "8093                                  [gb, wtf, definetly]\n",
       "14579                                         [reviewthis]\n",
       "12867      [radroach, investstion, radroaches, werd, soms]\n",
       "12654                      [freeexcept, aino, difficulity]\n",
       "723                             [reviewits, ther, warmode]\n",
       "5036                                          [reviewthis]\n",
       "10322                                                   []\n",
       "12814                                               [xbox]\n",
       "14355                                                 [ve]\n",
       "10498                                     [undertand, hmm]\n",
       "1487               [reviewhey, playerthe, pacedso, coolis]\n",
       "2972     [oneshooting, comunity, noobs, pcs, kgb, fsb, ...\n",
       "14335                                   [cks, masterpeice]\n",
       "6839             [reviewa, accualy, desent, weopns, omunt]\n",
       "7868                                    [grindy, overally]\n",
       "13779                                          [reviewthe]\n",
       "2112     [futureshop, blizzturd, craptivision, wowified...\n",
       "10162    [exept, diffrent, buing, whice, buing, recomen...\n",
       "1619     [dota, bungie, achieveing, supressions, surpre...\n",
       "16337                                 [competetive, coltm]\n",
       "911                             [reviewawesome, definetly]\n",
       "3122                                         [ve, againts]\n",
       "17139                    [reviewgame, oneshot, oneshotted]\n",
       "15287                                                   []\n",
       "4041                                               [amout]\n",
       "5051                       [reviewi, nerf, teros, freinds]\n",
       "Name: bad_spelling, dtype: object"
      ]
     },
     "execution_count": 303,
     "metadata": {},
     "output_type": "execute_result"
    },
    {
     "name": "stdout",
     "output_type": "stream",
     "text": [
      "time: 16 ms (started: 2022-02-05 16:31:49 +02:00)\n"
     ]
    }
   ],
   "source": [
    "train['bad_spelling']"
   ]
  },
  {
   "cell_type": "code",
   "execution_count": null,
   "id": "118880f9-45cd-4199-a867-b7607b72c1a9",
   "metadata": {},
   "outputs": [],
   "source": []
  }
 ],
 "metadata": {
  "kernelspec": {
   "display_name": "Python 3 (ipykernel)",
   "language": "python",
   "name": "python3"
  },
  "language_info": {
   "codemirror_mode": {
    "name": "ipython",
    "version": 3
   },
   "file_extension": ".py",
   "mimetype": "text/x-python",
   "name": "python",
   "nbconvert_exporter": "python",
   "pygments_lexer": "ipython3",
   "version": "3.9.7"
  }
 },
 "nbformat": 4,
 "nbformat_minor": 5
}
