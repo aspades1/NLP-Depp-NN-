{
 "cells": [
  {
   "cell_type": "code",
   "execution_count": 13,
   "id": "2acdacb7-9761-49ff-b372-ee6b454350b0",
   "metadata": {},
   "outputs": [
    {
     "name": "stdout",
     "output_type": "stream",
     "text": [
      "time: 0 ns (started: 2022-02-05 13:23:42 +02:00)\n"
     ]
    }
   ],
   "source": [
    "import pandas as pd\n",
    "import numpy as np\n",
    "from profanity_filter import ProfanityFilter\n",
    "import spacy\n",
    "\n",
    "%load_ext autotime\n",
    "pd.options.mode.chained_assignment = None"
   ]
  },
  {
   "cell_type": "code",
   "execution_count": null,
   "id": "8ea23d2e-7017-434a-84b1-4d918f9ec55e",
   "metadata": {},
   "outputs": [],
   "source": [
    "train = pd.read_csv('../data/train_gr/train.csv')\n",
    "test = pd.read_csv('../data/test_gr/test.csv')"
   ]
  },
  {
   "cell_type": "code",
   "execution_count": 90,
   "id": "f0577698-56b0-4b71-9860-3ede5bad6279",
   "metadata": {
    "tags": []
   },
   "outputs": [
    {
     "data": {
      "text/plain": [
       "\"That's ****!\""
      ]
     },
     "execution_count": 90,
     "metadata": {},
     "output_type": "execute_result"
    },
    {
     "name": "stdout",
     "output_type": "stream",
     "text": [
      "time: 1.41 s (started: 2022-02-05 13:56:24 +02:00)\n"
     ]
    }
   ],
   "source": [
    "spacy.load('en_core_web_sm')\n",
    "pf = ProfanityFilter(languages = ['en'])"
   ]
  },
  {
   "cell_type": "code",
   "execution_count": 116,
   "id": "7ef52a8d-ee31-42a7-a8e1-5864ef57e123",
   "metadata": {},
   "outputs": [
    {
     "name": "stdout",
     "output_type": "stream",
     "text": [
      "time: 0 ns (started: 2022-02-05 14:07:49 +02:00)\n"
     ]
    }
   ],
   "source": [
    "sample = train.sample(500)"
   ]
  },
  {
   "cell_type": "code",
   "execution_count": 117,
   "id": "321c9193-0594-4104-b721-025d5034e6e9",
   "metadata": {
    "tags": []
   },
   "outputs": [
    {
     "name": "stdout",
     "output_type": "stream",
     "text": [
      "time: 3min 37s (started: 2022-02-05 14:07:59 +02:00)\n"
     ]
    }
   ],
   "source": [
    "sample['censored'] = sample['user_review'].apply(lambda x: pf.censor(x))"
   ]
  },
  {
   "cell_type": "code",
   "execution_count": 118,
   "id": "ae810519-5a85-454c-a5dd-797b6420ddb1",
   "metadata": {},
   "outputs": [
    {
     "name": "stdout",
     "output_type": "stream",
     "text": [
      "time: 15 ms (started: 2022-02-05 14:11:36 +02:00)\n"
     ]
    }
   ],
   "source": [
    "censored_sample = sample[sample['user_review']!=sample['censored']]"
   ]
  },
  {
   "cell_type": "code",
   "execution_count": 125,
   "id": "cbf58d7e-94b7-45a3-a6bb-d73ee64807f0",
   "metadata": {},
   "outputs": [
    {
     "name": "stdout",
     "output_type": "stream",
     "text": [
      "time: 15 ms (started: 2022-02-05 14:12:53 +02:00)\n"
     ]
    }
   ],
   "source": [
    "censored_sample.to_csv('../data/censored_sample.csv', index=False)"
   ]
  }
 ],
 "metadata": {
  "kernelspec": {
   "display_name": "Python 3 (ipykernel)",
   "language": "python",
   "name": "python3"
  },
  "language_info": {
   "codemirror_mode": {
    "name": "ipython",
    "version": 3
   },
   "file_extension": ".py",
   "mimetype": "text/x-python",
   "name": "python",
   "nbconvert_exporter": "python",
   "pygments_lexer": "ipython3",
   "version": "3.9.7"
  }
 },
 "nbformat": 4,
 "nbformat_minor": 5
}
