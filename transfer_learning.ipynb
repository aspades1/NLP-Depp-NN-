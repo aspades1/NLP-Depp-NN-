{
 "cells": [
  {
   "cell_type": "code",
   "execution_count": null,
   "id": "ce2503a5-e179-4a7c-93c4-26aba7c1f2fd",
   "metadata": {},
   "outputs": [],
   "source": [
    "import pandas as pd\n",
    "import numpy as np\n",
    "import matplotlib.pyplot as plt\n",
    "\n",
    "import tensorflow_hub as hub\n",
    "import keras\n",
    "import tensorflow as tf\n",
    "import keras\n",
    "from keras.metrics import categorical_accuracy\n",
    "from keras import layers\n",
    "import tensorflow_datasets as tfds\n",
    "\n",
    "from sklearn.model_selection import train_test_split\n",
    "from sklearn.metrics import ConfusionMatrixDisplay, classification_report, balanced_accuracy_score\n",
    "import datetime"
   ]
  },
  {
   "cell_type": "code",
   "execution_count": null,
   "id": "fdccfbe2-7396-486d-a77b-db533a8ffaff",
   "metadata": {},
   "outputs": [],
   "source": [
    "df = pd.read_parquet('../data/train_pos.parquet')"
   ]
  },
  {
   "cell_type": "code",
   "execution_count": null,
   "id": "2a238fba-f9d1-4f55-8df0-3e3e82b42e22",
   "metadata": {},
   "outputs": [],
   "source": [
    "encoder = tf.keras.layers.TextVectorization(max_tokens=20000)\n",
    "encoder.adapt(df.from_tokens.values)"
   ]
  },
  {
   "cell_type": "code",
   "execution_count": null,
   "id": "12ad54d2-51af-479e-a8b6-f435059b1311",
   "metadata": {},
   "outputs": [],
   "source": [
    "encoder.vocabulary_size()"
   ]
  },
  {
   "cell_type": "code",
   "execution_count": null,
   "id": "8ba9e245-836f-41b5-b124-d9485977afdb",
   "metadata": {},
   "outputs": [],
   "source": [
    "df = df[~(df.from_tokens == '')]"
   ]
  },
  {
   "cell_type": "code",
   "execution_count": null,
   "id": "0f35d571-3fc8-45c3-80b6-eafb0dbd252c",
   "metadata": {},
   "outputs": [],
   "source": [
    "df.shape"
   ]
  },
  {
   "cell_type": "code",
   "execution_count": null,
   "id": "136a9cc9-5c83-4782-a8f8-1fd3f901ecb1",
   "metadata": {},
   "outputs": [],
   "source": [
    "X = df.clean.values\n",
    "y = df.user_suggestion.values"
   ]
  },
  {
   "cell_type": "code",
   "execution_count": null,
   "id": "0bb42008-043b-441d-aca9-e88ca9db95c1",
   "metadata": {},
   "outputs": [],
   "source": [
    "X_train, X_test, y_train, y_test = train_test_split(X, y, test_size=0.10, stratify=y, random_state=42)"
   ]
  },
  {
   "cell_type": "code",
   "execution_count": null,
   "id": "e2a24221-f0c1-4f3c-a9a4-1102f0fce700",
   "metadata": {},
   "outputs": [],
   "source": []
  },
  {
   "cell_type": "code",
   "execution_count": null,
   "id": "5ff68c8a-797a-4ba0-b412-bc9d0aabad79",
   "metadata": {},
   "outputs": [],
   "source": []
  },
  {
   "cell_type": "code",
   "execution_count": null,
   "id": "a0962a2a-b5ad-402d-b447-2b94a44344c5",
   "metadata": {},
   "outputs": [],
   "source": [
    "model = keras.Sequential([\n",
    "    hub.KerasLayer(\"https://tfhub.dev/google/nnlm-en-dim50/2\", dtype=tf.string, input_shape=[],\n",
    "                  output_shape=[50]),\n",
    "    keras.layers.Dense(128, activation='relu'),\n",
    "    # tf.keras.layers.Dropout(0.4),\n",
    "    # keras.layers.Dense(64, activation='relu'),\n",
    "    keras.layers.Dense(1, activation='sigmoid'),\n",
    "    \n",
    "    \n",
    "])\n",
    "model.layers[0].trainable=True"
   ]
  },
  {
   "cell_type": "code",
   "execution_count": null,
   "id": "b1afdc7c-8631-4f3a-ac38-4135835c75e1",
   "metadata": {},
   "outputs": [],
   "source": [
    "model.compile(loss=tf.keras.losses.BinaryCrossentropy(from_logits=False),\n",
    "              optimizer=tf.keras.optimizers.Adam(1e-4),\n",
    "              metrics=['accuracy'])"
   ]
  },
  {
   "cell_type": "code",
   "execution_count": null,
   "id": "f5db4d1b-a629-4dd3-8077-5b384d5af454",
   "metadata": {},
   "outputs": [],
   "source": [
    "callback_stop = tf.keras.callbacks.EarlyStopping(monitor='accuracy', patience=5, min_delta=0.005)\n",
    "\n",
    "learning_drop = tf.keras.callbacks.ReduceLROnPlateau(\n",
    "    monitor=\"val_accuracy\",\n",
    "    factor=0.80,\n",
    "    patience=2,\n",
    "    verbose=0,\n",
    "    mode=\"auto\",\n",
    "    min_delta=0.01,\n",
    "    cooldown=0,\n",
    "    min_lr=0,\n",
    ")\n",
    "\n",
    "model_dir = \"models/\" + datetime.datetime.now().strftime(\"%Y%m%d-%H%M%S\") + '.h5'\n",
    "\n",
    "checkpoint_cb = tf.keras.callbacks.ModelCheckpoint(\n",
    "    model_dir, monitor='val_loss', verbose=0, save_best_only=True,\n",
    "    save_weights_only=False, mode='auto', save_freq='epoch',\n",
    "    options=None\n",
    ")\n"
   ]
  },
  {
   "cell_type": "code",
   "execution_count": null,
   "id": "69d278fa-f731-4547-9506-aa8d2eb6d514",
   "metadata": {
    "tags": []
   },
   "outputs": [],
   "source": [
    "# weights = dict(1/df.outcome.value_counts())\n",
    "model.fit(X_train, y_train, validation_data=(X_test, y_test), epochs=2, \n",
    "          callbacks=[learning_drop, callback_stop, checkpoint_cb], batch_size=64)"
   ]
  },
  {
   "cell_type": "code",
   "execution_count": null,
   "id": "70f82c63-0081-430b-8f9b-5c0b1c26a34e",
   "metadata": {},
   "outputs": [],
   "source": []
  },
  {
   "cell_type": "code",
   "execution_count": null,
   "id": "eb43daf6-64be-4e23-9133-955f6badacbf",
   "metadata": {},
   "outputs": [],
   "source": [
    "model_best = keras.models.load_model('./models/20220205-190208.h5', custom_objects={'KerasLayer': hub.KerasLayer})"
   ]
  },
  {
   "cell_type": "code",
   "execution_count": null,
   "id": "4b49fe63-6251-4022-b8a3-aa5ab735be46",
   "metadata": {},
   "outputs": [],
   "source": [
    "y_pred = (model_best.predict(X_test) > 0.5)\n",
    "y_pred = np.squeeze(y_pred)"
   ]
  },
  {
   "cell_type": "code",
   "execution_count": null,
   "id": "c9d6c7cd-380c-4e5f-ba79-843e9dd70050",
   "metadata": {},
   "outputs": [],
   "source": [
    "plt.style.use('dark_background')\n",
    "fig = plt.figure(figsize=(8, 8))\n",
    "ax = plt.gca()\n",
    "ConfusionMatrixDisplay.from_predictions(y_test, y_pred, ax=ax)"
   ]
  },
  {
   "cell_type": "code",
   "execution_count": null,
   "id": "598f0d3a-6901-48ef-a1ef-db9a3a2180b8",
   "metadata": {},
   "outputs": [],
   "source": [
    "print(classification_report(y_test, y_pred))"
   ]
  },
  {
   "cell_type": "code",
   "execution_count": null,
   "id": "a85e1b4b-aaee-4533-953d-8ad25f805be5",
   "metadata": {},
   "outputs": [],
   "source": [
    "fig.savefig('confusion.png', transparent=True)"
   ]
  },
  {
   "cell_type": "code",
   "execution_count": null,
   "id": "65bcd843-ca2c-4cc2-bc93-baa0ffa3192e",
   "metadata": {},
   "outputs": [],
   "source": [
    "df"
   ]
  },
  {
   "cell_type": "code",
   "execution_count": null,
   "id": "d4f3f5d7-8598-43c6-bb79-72d85188b605",
   "metadata": {},
   "outputs": [],
   "source": []
  }
 ],
 "metadata": {
  "kernelspec": {
   "display_name": "Python 3 (ipykernel)",
   "language": "python",
   "name": "python3"
  },
  "language_info": {
   "codemirror_mode": {
    "name": "ipython",
    "version": 3
   },
   "file_extension": ".py",
   "mimetype": "text/x-python",
   "name": "python",
   "nbconvert_exporter": "python",
   "pygments_lexer": "ipython3",
   "version": "3.9.7"
  }
 },
 "nbformat": 4,
 "nbformat_minor": 5
}
